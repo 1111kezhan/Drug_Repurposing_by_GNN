{
  "nbformat": 4,
  "nbformat_minor": 0,
  "metadata": {
    "colab": {
      "private_outputs": true,
      "provenance": [],
      "authorship_tag": "ABX9TyNqF+CcbO4Um51FUgEYA56V"
    },
    "kernelspec": {
      "name": "python3",
      "display_name": "Python 3"
    },
    "language_info": {
      "name": "python"
    }
  },
  "cells": [
    {
      "cell_type": "code",
      "execution_count": null,
      "metadata": {
        "id": "Y09D7gJxSS4O"
      },
      "outputs": [],
      "source": [
        "!pip install RDkit"
      ]
    },
    {
      "cell_type": "code",
      "source": [
        "from google.colab import drive\n",
        "drive.mount('/content/drive')"
      ],
      "metadata": {
        "id": "IgjSPkH2J4GG"
      },
      "execution_count": null,
      "outputs": []
    },
    {
      "cell_type": "code",
      "source": [
        "import rdkit\n",
        "from rdkit import Chem\n",
        "from rdkit.Chem import Draw\n",
        "import numpy as np\n",
        "import pandas as pd\n",
        "import os\n",
        "import matplotlib.pyplot as plt\n",
        "import tensorflow as tf\n",
        "import IPython.display as display"
      ],
      "metadata": {
        "id": "9TWTuvsGJ3LG"
      },
      "execution_count": null,
      "outputs": []
    },
    {
      "cell_type": "code",
      "source": [
        "ms = [Chem.MolFromSmiles('[Na+].[Cl-]')]\n",
        "#ms=[Chem.MolFromSmiles('OCC1=CC=CC=C1')]\n",
        "cnt =1\n",
        "element = []\n",
        "elementcopy = []\n",
        "for m in ms:\n",
        "    Draw.MolToFile(m, 'graph.png')\n",
        "    cnt +=1\n",
        "\n",
        "mtrx = [Chem.rdmolops.GetAdjacencyMatrix(m,useBO=True) for m in ms]\n",
        "print(mtrx)"
      ],
      "metadata": {
        "id": "xtiQDRvVSwoH"
      },
      "execution_count": null,
      "outputs": []
    },
    {
      "cell_type": "code",
      "source": [
        "data = pd.read_csv('/content/drive/MyDrive/third_dataset/fda_fixed_onlySMILES.csv')"
      ],
      "metadata": {
        "id": "i0dp6EKaNW7e"
      },
      "execution_count": null,
      "outputs": []
    },
    {
      "cell_type": "code",
      "source": [
        "sm = []\n",
        "id = []\n",
        "elements = [\"+\",\"-\",\"I\",\"Br\",\"Li\",\"Na\",\"K\",\"Rb\",\"Cs\",\"Be\",\"Mg\",\"Ca\",\"Sr\",\"Ba\",\"Sc\",\"Y\",\"Ti\",\"Zr\",\"Hf\",\"V\",\"Nb\",\"Ta\",\"Cr\",\"Mo\",\"W\",\"Mn\",\"Tc\",\"Re\",\"Fe\",\"Ru\",\"Os\",\"Co\",\"Rh\",\"Ir\",\"Ni\",\"Pd\",\"Pt\",\"Cu\",\"Ag\",\"Au\",\"Zn\",\"Cd\",\"Hg\",\"B\",\"Al\",\"Ga\",\"In\",\"Tl\",\"Si\",\"Ge\",\"Sn\",\"Pb\",\"As\",\"Sb\",\"Bi\",\"Se\",\"Te\",\"Po\",\"At\",\"He\",\"Ne\",\"Ar\",\"Kr\",\"Xe\",\"Rn\"]\n",
        "garbage_sm = []\n",
        "garbage_id = []\n",
        "\n",
        "for i in range(len(data)):\n",
        "\n",
        "    classified = False\n",
        "\n",
        "    if(not classified):\n",
        "        for ele in elements:\n",
        "            if(ele in data.iloc[i].values[1]):\n",
        "                garbage_id.append(data.iloc[i].values[0])\n",
        "                garbage_sm.append(data.iloc[i].values[1])\n",
        "                classified = True\n",
        "                break\n",
        "\n",
        "    if(not classified):\n",
        "        id.append(data.iloc[i].values[0])\n",
        "        sm.append(data.iloc[i].values[1])\n",
        "\n",
        "write_file=pd.read_csv('/content/drive/MyDrive/third_dataset/fda_fixed_filtered_onlySMILES.csv')\n",
        "write_file['DATABASE_ID']=id\n",
        "write_file['SMILES']=sm\n",
        "write_file.to_csv('/content/drive/MyDrive/third_dataset/fda_fixed_filtered_onlySMILES.csv', index=False)\n",
        "\n",
        "print(id)\n",
        "print(sm)\n"
      ],
      "metadata": {
        "id": "WMPaJZ0DQWRc"
      },
      "execution_count": null,
      "outputs": []
    }
  ]
}
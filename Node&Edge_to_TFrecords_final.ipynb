{
  "nbformat": 4,
  "nbformat_minor": 0,
  "metadata": {
    "colab": {
      "private_outputs": true,
      "provenance": [],
      "authorship_tag": "ABX9TyMQZ+PRvJ25ZCL3JQ8lkefh"
    },
    "kernelspec": {
      "name": "python3",
      "display_name": "Python 3"
    },
    "language_info": {
      "name": "python"
    }
  },
  "cells": [
    {
      "cell_type": "code",
      "execution_count": null,
      "metadata": {
        "id": "tOefYypLCXSb"
      },
      "outputs": [],
      "source": [
        "!pip install RDkit\n",
        "!pip install -q tensorflow-gnn"
      ]
    },
    {
      "cell_type": "code",
      "source": [
        "from google.colab import drive\n",
        "drive.mount('/content/drive')"
      ],
      "metadata": {
        "id": "6qsvNSwMEnWa"
      },
      "execution_count": null,
      "outputs": []
    },
    {
      "cell_type": "code",
      "source": [
        "import rdkit\n",
        "from rdkit import Chem\n",
        "from rdkit.Chem import Draw\n",
        "import numpy as np\n",
        "import pandas as pd\n",
        "import os\n",
        "import matplotlib.pyplot as plt\n",
        "import tensorflow as tf\n",
        "import tensorflow_gnn as tfgnn\n",
        "import IPython.display as display"
      ],
      "metadata": {
        "id": "hksiUcbDEnaA"
      },
      "execution_count": null,
      "outputs": []
    },
    {
      "cell_type": "code",
      "source": [
        "data_train = pd.read_csv('/content/drive/MyDrive/forth_dataset/train_onlySMILES_shuffle.csv')\n",
        "data_predict = pd.read_csv('/content/drive/MyDrive/fifth_dataset/fda_fixed_onlySMILES.csv')\n",
        "sm_train=[]\n",
        "lb=[]\n",
        "sm_predict=[]\n",
        "for i in range(len(data_train)):\n",
        "    sm_train.append(data_train.iloc[i].values[0])\n",
        "    lb.append(data_train.iloc[i].values[1])\n",
        "for i in range(len(data_predict)):\n",
        "    sm_predict.append(data_predict.iloc[i].values[1])\n"
      ],
      "metadata": {
        "id": "TR9T0UzqEnca"
      },
      "execution_count": null,
      "outputs": []
    },
    {
      "cell_type": "code",
      "source": [
        "for itr in range(10):\n",
        "    num=0\n",
        "    a=0\n",
        "    b=0\n",
        "    for i in range(283):\n",
        "        if(i%10==itr):\n",
        "            if(lb[i]==1):\n",
        "                a+=1\n",
        "            else:\n",
        "                b+=1\n",
        "            num+=1\n",
        "    print(a,b,num)\n",
        "    print()"
      ],
      "metadata": {
        "id": "Tbvy8cj7yRnO"
      },
      "execution_count": null,
      "outputs": []
    },
    {
      "cell_type": "code",
      "source": [
        "print(len(data_train))"
      ],
      "metadata": {
        "id": "OdR5lGU3oF_P"
      },
      "execution_count": null,
      "outputs": []
    },
    {
      "cell_type": "code",
      "source": [
        "print(len(data_predict))"
      ],
      "metadata": {
        "id": "vjfyDcnERcsf"
      },
      "execution_count": null,
      "outputs": []
    },
    {
      "cell_type": "code",
      "source": [
        "def process(sm,n):\n",
        "\n",
        "    ms=[Chem.MolFromSmiles(sm[n])]\n",
        "    element = []\n",
        "    elementcopy = []\n",
        "    mtrx = [Chem.rdmolops.GetAdjacencyMatrix(m,useBO=True) for m in ms]\n",
        "\n",
        "    for i in range(len(mtrx)):\n",
        "        element = [atom.GetSymbol() for atom in ms[i].GetAtoms()]\n",
        "        elementcopy=element.copy()\n",
        "\n",
        "    #0=C, 1=O, 2=N, 3=P, 4=S, 5=F, 6=Cl\n",
        "\n",
        "    element_res=np.zeros((len(element),7))\n",
        "    idx=0\n",
        "\n",
        "    for i in element:\n",
        "        if(i=='C'):\n",
        "            element_res[idx][0]=1\n",
        "        if(i=='O'):\n",
        "            element_res[idx][1]=1\n",
        "        if(i=='N'):\n",
        "            element_res[idx][2]=1\n",
        "        if(i=='P'):\n",
        "            element_res[idx][3]=1\n",
        "        if(i=='S'):\n",
        "            element_res[idx][4]=1\n",
        "        if(i=='F'):\n",
        "            element_res[idx][5]=1\n",
        "        if(i=='Cl'):\n",
        "            element_res[idx][6]=1\n",
        "        idx=idx+1\n",
        "\n",
        "   ###################################################################\n",
        "\n",
        "    edge_source=[]\n",
        "    edge_target=[]\n",
        "    edge_num=np.zeros((0,4))\n",
        "\n",
        "    for idx1 in range(len(element)):\n",
        "        for idx2 in range(len(element)):\n",
        "            if(mtrx[0][idx1][idx2] != 0):\n",
        "                edge_source.append(idx1)\n",
        "                edge_target.append(idx2)\n",
        "                arr=[[0,0,0,0]]\n",
        "                if(mtrx[0][idx1][idx2]==1.5):\n",
        "                    arr[0][0]=1\n",
        "                    arr[0][1]=1\n",
        "                else:\n",
        "                    arr[0][int(mtrx[0][idx1][idx2])-1]=1\n",
        "                edge_num=np.append(edge_num, arr, axis=0)\n",
        "    return element_res,edge_source,edge_target,edge_num"
      ],
      "metadata": {
        "id": "AMq-Sca6Ene4"
      },
      "execution_count": null,
      "outputs": []
    },
    {
      "cell_type": "code",
      "source": [
        "###########################################################################"
      ],
      "metadata": {
        "id": "V2pp9EFDEnjv"
      },
      "execution_count": null,
      "outputs": []
    },
    {
      "cell_type": "code",
      "source": [
        "def _2D_to_1D(vals):\n",
        "    ret=[]\n",
        "    for i in vals:\n",
        "        for j in i:\n",
        "            ret.append(j)\n",
        "    return ret"
      ],
      "metadata": {
        "id": "n21wzeTi5Tzq"
      },
      "execution_count": null,
      "outputs": []
    },
    {
      "cell_type": "code",
      "source": [
        "def _bytes_feature(value):\n",
        "  return tf.train.Feature(bytes_list=tf.train.BytesList(value))\n",
        "\n",
        "def _float_1D_feature(values):\n",
        "  return tf.train.Feature(float_list=tf.train.FloatList(value=[value for value in values]))\n",
        "\n",
        "def _float_2D_feature(values):\n",
        "   ret=_2D_to_1D(values)\n",
        "   return tf.train.Feature(float_list=tf.train.FloatList(value=[value for value in ret]))\n",
        "\n",
        "def _int64_0D_feature(value):\n",
        "  return tf.train.Feature(int64_list=tf.train.Int64List(value=[value]))\n",
        "\n",
        "def _int64_1D_feature(values):\n",
        "  return tf.train.Feature(int64_list=tf.train.Int64List(value=[value for value in values]))\n",
        "\n",
        "def _int64_2D_feature(values):\n",
        "  ret=_2D_to_1D(values)\n",
        "  return tf.train.Feature(int64_list=tf.train.Int64List(value=[value for value in ret]))\n"
      ],
      "metadata": {
        "id": "fU_h9oRXEnl_"
      },
      "execution_count": null,
      "outputs": []
    },
    {
      "cell_type": "code",
      "source": [
        "@tf.py_function(Tout=tf.string)\n",
        "def train_serialize_example(label,edge_sz,edge_so,edge_tg,edge_hs,node_sz,atom_hs):\n",
        "\n",
        "  feature = {\n",
        "      'context/label': _int64_0D_feature(label),\n",
        "      'edges/bonds.#size': _int64_0D_feature(edge_sz),\n",
        "      'edges/bonds.#source': _int64_1D_feature(edge_so),\n",
        "      'edges/bonds.#target': _int64_1D_feature(edge_tg),\n",
        "      'edges/bonds.hidden_state': _float_2D_feature(edge_hs),\n",
        "      'nodes/atoms.#size': _int64_0D_feature(node_sz),\n",
        "      'nodes/atoms.hidden_state': _float_2D_feature(atom_hs)\n",
        "  }\n",
        "\n",
        "  example_proto = tf.train.Example(features=tf.train.Features(feature=feature))\n",
        "  return example_proto.SerializeToString()"
      ],
      "metadata": {
        "id": "Bk3k3xcwF-B9"
      },
      "execution_count": null,
      "outputs": []
    },
    {
      "cell_type": "code",
      "source": [
        "@tf.py_function(Tout=tf.string)\n",
        "def predict_serialize_example(edge_sz,edge_so,edge_tg,edge_hs,node_sz,atom_hs):\n",
        "\n",
        "  feature = {\n",
        "      'edges/bonds.#size': _int64_0D_feature(edge_sz),\n",
        "      'edges/bonds.#source': _int64_1D_feature(edge_so),\n",
        "      'edges/bonds.#target': _int64_1D_feature(edge_tg),\n",
        "      'edges/bonds.hidden_state': _float_2D_feature(edge_hs),\n",
        "      'nodes/atoms.#size': _int64_0D_feature(node_sz),\n",
        "      'nodes/atoms.hidden_state': _float_2D_feature(atom_hs)\n",
        "  }\n",
        "\n",
        "  example_proto = tf.train.Example(features=tf.train.Features(feature=feature))\n",
        "  return example_proto.SerializeToString()"
      ],
      "metadata": {
        "id": "5YwVW7HtPk-K"
      },
      "execution_count": null,
      "outputs": []
    },
    {
      "cell_type": "code",
      "source": [
        "for itr in range(1,11):\n",
        "\n",
        "    filename_train = 'train_smiles_'+str(itr)+'.tfrecord'\n",
        "    filename_val = 'val_smiles_'+str(itr)+'.tfrecord'\n",
        "\n",
        "    with tf.io.TFRecordWriter(filename_train) as writer, tf.io.TFRecordWriter(filename_val) as writer2:\n",
        "\n",
        "        for i in range(283):\n",
        "\n",
        "            (element_res,edge_source,edge_target,edge_num)=process(sm_train,i)\n",
        "            example = train_serialize_example(lb[i],len(edge_source),edge_source, edge_target, edge_num,len(element_res),element_res)\n",
        "\n",
        "            if(i%10==(itr-1)):\n",
        "                writer2.write(example.numpy())\n",
        "            else:\n",
        "                writer.write(example.numpy())\n"
      ],
      "metadata": {
        "id": "wZDcGh84EnoV"
      },
      "execution_count": null,
      "outputs": []
    },
    {
      "cell_type": "code",
      "source": [
        "filename_train_all = 'all_train_smiles.tfrecord'\n",
        "with tf.io.TFRecordWriter(filename_train_all) as writer:\n",
        "  for i in range(283):\n",
        "    (element_res,edge_source,edge_target,edge_num)=process(sm_train,i)\n",
        "    example = train_serialize_example(lb[i],len(edge_source),edge_source, edge_target, edge_num,len(element_res),element_res)\n",
        "    writer.write(example.numpy())"
      ],
      "metadata": {
        "id": "B1hNOtglOGq3"
      },
      "execution_count": null,
      "outputs": []
    },
    {
      "cell_type": "code",
      "source": [
        "filename_predict = 'fda_fixed_1.tfrecord'\n",
        "with tf.io.TFRecordWriter(filename_predict) as writer:\n",
        "    for i in range(len(data_predict)):\n",
        "        (element_res,edge_source,edge_target,edge_num)=process(sm_predict,i)\n",
        "\n",
        "        #it should use predict_serialize_example()\n",
        "        example = train_serialize_example(1,len(edge_source),edge_source, edge_target, edge_num, len(element_res),element_res)\n",
        "\n",
        "        writer.write(example.numpy())"
      ],
      "metadata": {
        "id": "GTbzuMJ7FZyE"
      },
      "execution_count": null,
      "outputs": []
    }
  ]
}